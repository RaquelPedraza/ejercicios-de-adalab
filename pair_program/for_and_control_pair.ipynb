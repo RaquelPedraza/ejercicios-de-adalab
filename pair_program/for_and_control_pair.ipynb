{
 "cells": [
  {
   "cell_type": "code",
   "execution_count": null,
   "metadata": {},
   "outputs": [],
   "source": [
    "# 1. Imprimir los números del 1 al 5 utilizando un bucle for\n",
    "\n",
    "#Descripción: Utiliza un bucle for para imprimir los números del 1 al 5 (incluido) en orden ascendente."
   ]
  },
  {
   "cell_type": "code",
   "execution_count": 1,
   "metadata": {},
   "outputs": [
    {
     "name": "stdout",
     "output_type": "stream",
     "text": [
      "1\n",
      "2\n",
      "3\n",
      "4\n",
      "5\n"
     ]
    }
   ],
   "source": [
    "for num in range(1, 6):\n",
    "    print(num)"
   ]
  },
  {
   "cell_type": "code",
   "execution_count": null,
   "metadata": {},
   "outputs": [],
   "source": [
    "# 2. Calcular la suma de los primeros 10 números naturales utilizando un bucle for\n",
    "\n",
    "#Descripción: Utiliza un bucle for para calcular la suma de los primeros 10 números naturales (1 + 2 + 3 + ... + 10)."
   ]
  },
  {
   "cell_type": "code",
   "execution_count": 5,
   "metadata": {},
   "outputs": [
    {
     "name": "stdout",
     "output_type": "stream",
     "text": [
      "1\n",
      "3\n",
      "6\n",
      "10\n",
      "15\n",
      "21\n",
      "28\n",
      "36\n",
      "45\n",
      "55\n"
     ]
    }
   ],
   "source": [
    "suma = 0\n",
    "for num in range(1, 11):\n",
    "    suma += num\n",
    "    print(suma) "
   ]
  },
  {
   "cell_type": "code",
   "execution_count": null,
   "metadata": {},
   "outputs": [],
   "source": [
    "# 3. Calcular el producto de los elementos de una lista\n",
    "\n",
    "#Descripción: Dada una lista de números, utiliza un bucle for para calcular el producto de todos los elementos."
   ]
  },
  {
   "cell_type": "code",
   "execution_count": 8,
   "metadata": {},
   "outputs": [
    {
     "name": "stdout",
     "output_type": "stream",
     "text": [
      "2\n",
      "8\n",
      "64\n",
      "640\n"
     ]
    }
   ],
   "source": [
    "lista = [2, 4, 8, 10]\n",
    "producto = 1\n",
    "for num in lista:\n",
    "    producto *= num\n",
    "    print(producto)\n"
   ]
  },
  {
   "cell_type": "code",
   "execution_count": null,
   "metadata": {},
   "outputs": [],
   "source": [
    "# 4. Imprimir los caracteres de una cadena de texto\n",
    "\n",
    "# Descripción: Dada una cadena de texto, utiliza un bucle for para imprimir cada carácter en una línea separada."
   ]
  },
  {
   "cell_type": "code",
   "execution_count": 9,
   "metadata": {},
   "outputs": [
    {
     "name": "stdout",
     "output_type": "stream",
     "text": [
      "b\n",
      "u\n",
      "c\n",
      "l\n",
      "e\n"
     ]
    }
   ],
   "source": [
    "cadena = \"bucle\"\n",
    "for letra in cadena:\n",
    "    print(letra)"
   ]
  },
  {
   "cell_type": "code",
   "execution_count": null,
   "metadata": {},
   "outputs": [],
   "source": [
    "# 5. Imprimir los números pares del 1 al 100 utilizando un bucle for\n",
    "\n",
    "#Descripción: Utiliza un bucle for para imprimir los números pares del 1 al 100 en orden ascendente."
   ]
  },
  {
   "cell_type": "code",
   "execution_count": 13,
   "metadata": {},
   "outputs": [
    {
     "name": "stdout",
     "output_type": "stream",
     "text": [
      "2\n",
      "4\n",
      "6\n",
      "8\n",
      "10\n",
      "12\n",
      "14\n",
      "16\n",
      "18\n",
      "20\n",
      "22\n",
      "24\n",
      "26\n",
      "28\n",
      "30\n",
      "32\n",
      "34\n",
      "36\n",
      "38\n",
      "40\n",
      "42\n",
      "44\n",
      "46\n",
      "48\n",
      "50\n",
      "52\n",
      "54\n",
      "56\n",
      "58\n",
      "60\n",
      "62\n",
      "64\n",
      "66\n",
      "68\n",
      "70\n",
      "72\n",
      "74\n",
      "76\n",
      "78\n",
      "80\n",
      "82\n",
      "84\n",
      "86\n",
      "88\n",
      "90\n",
      "92\n",
      "94\n",
      "96\n",
      "98\n",
      "100\n"
     ]
    }
   ],
   "source": [
    "for num in range(1, 101):\n",
    "    if num % 2 == 0:\n",
    "        print(num)"
   ]
  },
  {
   "cell_type": "code",
   "execution_count": null,
   "metadata": {},
   "outputs": [],
   "source": [
    "# 6. Imprimir los números primos del 1 al 50 utilizando un bucle for\n",
    "\n",
    "#Descripción: Utiliza un bucle for para imprimir los números primos del 1 al 50 en orden ascendente.\n",
    "\n",
    "#NOTA: Según la Wikipedia, un número primo es un número natural mayor que 1 que no tiene divisores positivos más que 1 y él mismo."
   ]
  },
  {
   "cell_type": "code",
   "execution_count": null,
   "metadata": {},
   "outputs": [],
   "source": [
    "# 7. Calcular el factorial de un número utilizando un bucle for\n",
    "\n",
    "#Descripción: Dado un número entero positivo, calcula su factorial utilizando un bucle for."
   ]
  },
  {
   "cell_type": "code",
   "execution_count": 14,
   "metadata": {},
   "outputs": [
    {
     "name": "stdout",
     "output_type": "stream",
     "text": [
      "1\n",
      "2\n",
      "6\n",
      "24\n",
      "120\n",
      "720\n",
      "5040\n"
     ]
    }
   ],
   "source": [
    "factorial = 1\n",
    "for num in range(1, 8):\n",
    "    factorial *= num\n",
    "    print(factorial)\n",
    "\n"
   ]
  },
  {
   "cell_type": "code",
   "execution_count": null,
   "metadata": {},
   "outputs": [],
   "source": [
    "# 8. Juego de adivinar palabras utilizando un bucle for\n",
    "\n",
    "#Descripción: Crea un juego en el que el jugador debe adivinar una palabra secreta. \n",
    "#El jugador tiene un número limitado de intentos y se le proporcionan pistas después de cada intento. \n",
    "#Utiliza un bucle for para controlar los intentos del jugador."
   ]
  },
  {
   "cell_type": "code",
   "execution_count": 19,
   "metadata": {},
   "outputs": [
    {
     "name": "stdout",
     "output_type": "stream",
     "text": [
      "Es de color amarillo\n",
      "Es redondo\n",
      "Da calor\n",
      "Brilla en el cielo\n",
      "Sigue intentándolo.\n",
      "Es de color amarillo\n",
      "Es redondo\n",
      "Da calor\n",
      "Brilla en el cielo\n",
      "Sigue intentándolo.\n",
      "Es de color amarillo\n",
      "Es redondo\n",
      "Da calor\n",
      "Brilla en el cielo\n",
      "Sigue intentándolo.\n"
     ]
    }
   ],
   "source": [
    "pal_secreta = \"sol\"\n",
    "adivinar = input(\"Intenta adivinar la palabra: \")\n",
    "\n",
    "for i in range(5):\n",
    "    if adivinar == pal_secreta:\n",
    "        print(\"¡Enhorabuena!\")\n",
    "        break\n",
    "    else:\n",
    "        pistas = [\"Es de color amarillo\",\"Es redondo\",\"Da calor\",\"Brilla en el cielo\"]   \n",
    "        for pista in pistas:\n",
    "            print(pista)\n",
    "        print(\"Sigue intentándolo.\")\n",
    "        adivinar = input(\"Intenta adivinar la palabra de nuevo: \")\n",
    "#print(\"Se acabaron tus vidas.\")  \n",
    "#El código imprime todos los elementos de la lista y el siguiente print de golpe"
   ]
  },
  {
   "cell_type": "code",
   "execution_count": 11,
   "metadata": {},
   "outputs": [
    {
     "name": "stdout",
     "output_type": "stream",
     "text": [
      "¡Incorrecto!\n",
      "Pista 1: Es de color amarillo.\n",
      "¡Incorrecto!\n",
      "Pista 2: Es redondo.\n",
      "¡Incorrecto!\n",
      "Pista 3: Da calor.\n",
      "¡Incorrecto!\n",
      "Pista 4: Brilla en el cielo.\n",
      "¡Enhorabuena! ¡Has adivinado la palabra!\n"
     ]
    }
   ],
   "source": [
    "pal_secreta = \"sol\"\n",
    "\n",
    "for intento in range(5):\n",
    "    adivinar = input(\"Intenta adivinar la palabra: \")\n",
    "\n",
    "    if adivinar == pal_secreta:\n",
    "        print(\"¡Enhorabuena! ¡Has adivinado la palabra!\")\n",
    "        break\n",
    "    else:\n",
    "        print(\"¡Incorrecto!\")\n",
    "        if intento == 0:\n",
    "            print(\"Pista 1: Es de color amarillo.\")\n",
    "        elif intento == 1:\n",
    "            print(\"Pista 2: Es redondo.\")\n",
    "        elif intento == 2:\n",
    "            print(\"Pista 3: Da calor.\")\n",
    "        elif intento == 3:\n",
    "            print(\"Pista 4: Brilla en el cielo.\")\n",
    "        else:\n",
    "            print(\"Se acabaron tus vidas.\")\n"
   ]
  },
  {
   "cell_type": "markdown",
   "metadata": {},
   "source": [
    "LIST COMPREHENSION"
   ]
  },
  {
   "cell_type": "code",
   "execution_count": null,
   "metadata": {},
   "outputs": [],
   "source": [
    "# 1. Generar una lista de los números pares del 1 al 20.\n",
    "\n",
    "#Descripción: Utiliza list comprehension para generar una lista que contenga todos los números pares en el rango del 1 al 20."
   ]
  },
  {
   "cell_type": "code",
   "execution_count": 24,
   "metadata": {},
   "outputs": [
    {
     "name": "stdout",
     "output_type": "stream",
     "text": [
      "[2, 4, 6, 8, 10, 12, 14, 16, 18, 20]\n"
     ]
    }
   ],
   "source": [
    "lista_pares2 = [num for num in range(1, 21) if num%2 == 0]\n",
    "print(lista_pares2)"
   ]
  },
  {
   "cell_type": "code",
   "execution_count": null,
   "metadata": {},
   "outputs": [],
   "source": [
    "# 2. Obtener una lista de las vocales en una cadena de texto.\n",
    "\n",
    "#Descripción: Utiliza list comprehension para crear una lista que contenga todas las vocales presentes en una cadena de texto (sin repetición)."
   ]
  },
  {
   "cell_type": "code",
   "execution_count": 28,
   "metadata": {},
   "outputs": [
    {
     "name": "stdout",
     "output_type": "stream",
     "text": [
      "['e', 'e', 'a', 'e']\n"
     ]
    }
   ],
   "source": [
    "texto = \"elefante\"\n",
    "vocales = [vocal for vocal in texto if vocal == \"a\" or vocal == \"e\" or vocal == \"i\" or vocal == \"o\" or vocal == \"u\"]\n",
    "print(vocales)"
   ]
  },
  {
   "cell_type": "code",
   "execution_count": 29,
   "metadata": {},
   "outputs": [
    {
     "name": "stdout",
     "output_type": "stream",
     "text": [
      "['e', 'e', 'a', 'e']\n"
     ]
    }
   ],
   "source": [
    "#he investigado y esta forma más simple, también es posible:\n",
    "texto = \"elefante\"\n",
    "vocales = [vocal for vocal in texto if vocal in \"aeiou\"]\n",
    "print(vocales)"
   ]
  },
  {
   "cell_type": "code",
   "execution_count": null,
   "metadata": {},
   "outputs": [],
   "source": [
    "# 3. Filtrar los números positivos de una lista y calcular su cuadrado.\n",
    "\n",
    "#Descripción: Utiliza list comprehension para filtrar los números positivos de una lista y calcular el cuadrado de cada uno."
   ]
  },
  {
   "cell_type": "code",
   "execution_count": 34,
   "metadata": {},
   "outputs": [
    {
     "name": "stdout",
     "output_type": "stream",
     "text": [
      "[4, 900, 484, 4]\n"
     ]
    }
   ],
   "source": [
    "lista_numeros = [2, -8, 30, 22, -10, 2, 0, -4]\n",
    "numeros_positivos_2 = [num**2 for num in lista_numeros if num > 0]\n",
    "print(numeros_positivos_2)"
   ]
  },
  {
   "cell_type": "markdown",
   "metadata": {},
   "source": [
    "TRY...EXCEPT"
   ]
  },
  {
   "cell_type": "code",
   "execution_count": null,
   "metadata": {},
   "outputs": [],
   "source": [
    "# 1. Realizar una búsqueda en una lista y capturar una excepción en caso de valor no encontrado.\n",
    "\n",
    "#Descripción: Solicita al usuario una lista de nombres y un nombre para buscar en la lista. Intenta encontrar el nombre en la lista y utiliza las sentencias try y except para capturar la excepción en caso de que el nombre no sea encontrado."
   ]
  },
  {
   "cell_type": "code",
   "execution_count": 52,
   "metadata": {},
   "outputs": [],
   "source": [
    "try:\n",
    "    nombres = ['Ana', 'Pepe', 'Carmen', 'Marcos', 'Juan']\n",
    "    eleccion = input(\"Escribe un nombre\")\n",
    "\n",
    "    if eleccion in nombres:\n",
    "        print(f\"El nombre {eleccion} está en la lista\") \n",
    "        \n",
    "except KeyError:\n",
    "    print(\"El nombre no está listado\")"
   ]
  },
  {
   "cell_type": "code",
   "execution_count": 55,
   "metadata": {},
   "outputs": [],
   "source": [
    "\n",
    "nombres = ['Ana', 'Pepe', 'Carmen', 'Marcos', 'Juan']\n",
    "eleccion = input(\"Escribe un nombre\")\n",
    "try:\n",
    "    if eleccion in nombres:\n",
    "        print(f\"El nombre {eleccion} está en la lista\") \n",
    "        \n",
    "except Error:\n",
    "    print(\"El nombre no está listado\")"
   ]
  },
  {
   "cell_type": "code",
   "execution_count": 45,
   "metadata": {},
   "outputs": [
    {
     "name": "stdout",
     "output_type": "stream",
     "text": [
      "El nombre Jose no está listado.\n"
     ]
    }
   ],
   "source": [
    "#alternativa chat:\n",
    "try:\n",
    "    nombres = ['Ana', 'Pepe', 'Carmen', 'Marcos', 'Juan']\n",
    "    eleccion = input(\"Escribe un nombre: \")\n",
    "\n",
    "    if eleccion in nombres:\n",
    "        print(f\"El nombre {eleccion} está en la lista.\")\n",
    "    else:\n",
    "        raise ValueError(f\"El nombre {eleccion} no está listado.\")\n",
    "\n",
    "except ValueError as e:\n",
    "    print(e)\n"
   ]
  }
 ],
 "metadata": {
  "kernelspec": {
   "display_name": "Python 3",
   "language": "python",
   "name": "python3"
  },
  "language_info": {
   "codemirror_mode": {
    "name": "ipython",
    "version": 3
   },
   "file_extension": ".py",
   "mimetype": "text/x-python",
   "name": "python",
   "nbconvert_exporter": "python",
   "pygments_lexer": "ipython3",
   "version": "3.11.8"
  }
 },
 "nbformat": 4,
 "nbformat_minor": 2
}
