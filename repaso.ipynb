{
 "cells": [
  {
   "cell_type": "markdown",
   "metadata": {},
   "source": [
    "LISTAS"
   ]
  },
  {
   "cell_type": "code",
   "execution_count": 4,
   "metadata": {},
   "outputs": [],
   "source": [
    "#1. Crear una lista: Crea una lista con cinco colores diferentes."
   ]
  },
  {
   "cell_type": "code",
   "execution_count": 5,
   "metadata": {},
   "outputs": [],
   "source": [
    "colores = ['blanco', 'rojo', 'verde', 'azul','amarillo']"
   ]
  },
  {
   "cell_type": "code",
   "execution_count": 6,
   "metadata": {},
   "outputs": [],
   "source": [
    "#2. Acceder a elementos: Accede al tercer elemento de la lista de colores."
   ]
  },
  {
   "cell_type": "code",
   "execution_count": 7,
   "metadata": {},
   "outputs": [
    {
     "data": {
      "text/plain": [
       "'verde'"
      ]
     },
     "execution_count": 7,
     "metadata": {},
     "output_type": "execute_result"
    }
   ],
   "source": [
    "colores[2]"
   ]
  },
  {
   "cell_type": "code",
   "execution_count": 8,
   "metadata": {},
   "outputs": [],
   "source": [
    "#3. Modificar elementos: Cambia el segundo color de la lista por otro de tu elección."
   ]
  },
  {
   "cell_type": "code",
   "execution_count": 9,
   "metadata": {},
   "outputs": [],
   "source": [
    "colores[1] = \"púrpura\""
   ]
  },
  {
   "cell_type": "code",
   "execution_count": 10,
   "metadata": {},
   "outputs": [],
   "source": [
    "#4. Agregar elementos: Agrega dos colores nuevos a la lista."
   ]
  },
  {
   "cell_type": "code",
   "execution_count": 11,
   "metadata": {},
   "outputs": [
    {
     "name": "stdout",
     "output_type": "stream",
     "text": [
      "['blanco', 'púrpura', 'verde', 'azul', 'amarillo', 'naranja', 'morado']\n"
     ]
    }
   ],
   "source": [
    "colores2 = ('naranja', 'morado') \n",
    "if colores2 not in colores:\n",
    "    colores.extend(colores2)\n",
    "print(colores)"
   ]
  },
  {
   "cell_type": "code",
   "execution_count": 12,
   "metadata": {},
   "outputs": [],
   "source": [
    "#9. Concatenar listas: Concatena las dos sublistas en una sola lista de frutas."
   ]
  },
  {
   "cell_type": "code",
   "execution_count": 13,
   "metadata": {},
   "outputs": [
    {
     "data": {
      "text/plain": [
       "['blanco',\n",
       " 'púrpura',\n",
       " 'verde',\n",
       " 'azul',\n",
       " 'amarillo',\n",
       " 'naranja',\n",
       " 'morado',\n",
       " 'pera',\n",
       " 'manzana',\n",
       " 'naranja',\n",
       " 'plátano',\n",
       " 'uva']"
      ]
     },
     "execution_count": 13,
     "metadata": {},
     "output_type": "execute_result"
    }
   ],
   "source": [
    "frutas = ['pera','manzana','naranja','plátano','uva']\n",
    "super_lista= colores + frutas \n",
    "super_lista"
   ]
  },
  {
   "cell_type": "markdown",
   "metadata": {},
   "source": [
    "TUPLAS"
   ]
  },
  {
   "cell_type": "code",
   "execution_count": null,
   "metadata": {},
   "outputs": [],
   "source": []
  },
  {
   "cell_type": "markdown",
   "metadata": {},
   "source": [
    "DICCIONARIOS"
   ]
  },
  {
   "cell_type": "code",
   "execution_count": 14,
   "metadata": {},
   "outputs": [],
   "source": [
    "#1. Crear un diccionario: Crea un diccionario vacío llamado mi_diccionario con \n",
    "#una key llamada apellido y que su value sea López."
   ]
  },
  {
   "cell_type": "code",
   "execution_count": 15,
   "metadata": {},
   "outputs": [
    {
     "data": {
      "text/plain": [
       "{'apellido': 'López'}"
      ]
     },
     "execution_count": 15,
     "metadata": {},
     "output_type": "execute_result"
    }
   ],
   "source": [
    "mi_diccionario = {'apellido': 'López'}\n",
    "mi_diccionario"
   ]
  },
  {
   "cell_type": "code",
   "execution_count": 16,
   "metadata": {},
   "outputs": [
    {
     "data": {
      "text/plain": [
       "{'apellido': 'López', 'nombre': 'Juan'}"
      ]
     },
     "execution_count": 16,
     "metadata": {},
     "output_type": "execute_result"
    }
   ],
   "source": [
    "mi_diccionario.update({'nombre' : 'Juan'})\n",
    "mi_diccionario"
   ]
  },
  {
   "cell_type": "markdown",
   "metadata": {},
   "source": [
    "SETS"
   ]
  },
  {
   "cell_type": "code",
   "execution_count": 17,
   "metadata": {},
   "outputs": [
    {
     "data": {
      "text/plain": [
       "{'bronce', 'estaño', 'oro', 'plata'}"
      ]
     },
     "execution_count": 17,
     "metadata": {},
     "output_type": "execute_result"
    }
   ],
   "source": [
    "metales = {'oro', 'plata', 'oro', 'bronce','estaño'}\n",
    "metales"
   ]
  },
  {
   "cell_type": "code",
   "execution_count": 18,
   "metadata": {},
   "outputs": [
    {
     "data": {
      "text/plain": [
       "{'aluminio', 'bronce', 'cobre', 'estaño', 'hierro', 'oro', 'plata'}"
      ]
     },
     "execution_count": 18,
     "metadata": {},
     "output_type": "execute_result"
    }
   ],
   "source": [
    "metales2 = {'hierro', 'cobre', 'bronce', 'aluminio', 'oro'}\n",
    "metales.union(metales2)\n"
   ]
  },
  {
   "cell_type": "code",
   "execution_count": 19,
   "metadata": {},
   "outputs": [
    {
     "data": {
      "text/plain": [
       "{'bronce', 'oro'}"
      ]
     },
     "execution_count": 19,
     "metadata": {},
     "output_type": "execute_result"
    }
   ],
   "source": [
    "interseccion_metales = metales.intersection(metales2)\n",
    "interseccion_metales"
   ]
  },
  {
   "cell_type": "code",
   "execution_count": 20,
   "metadata": {},
   "outputs": [
    {
     "data": {
      "text/plain": [
       "{'estaño', 'plata'}"
      ]
     },
     "execution_count": 20,
     "metadata": {},
     "output_type": "execute_result"
    }
   ],
   "source": [
    "diferencia_metales = metales.difference(metales2)\n",
    "diferencia_metales"
   ]
  },
  {
   "cell_type": "code",
   "execution_count": 21,
   "metadata": {},
   "outputs": [
    {
     "data": {
      "text/plain": [
       "{'aluminio', 'cobre', 'hierro'}"
      ]
     },
     "execution_count": 21,
     "metadata": {},
     "output_type": "execute_result"
    }
   ],
   "source": [
    "diferencia_metales2 = metales2.difference(metales)\n",
    "diferencia_metales2"
   ]
  },
  {
   "cell_type": "markdown",
   "metadata": {},
   "source": [
    "WHILE"
   ]
  },
  {
   "cell_type": "code",
   "execution_count": 22,
   "metadata": {},
   "outputs": [],
   "source": [
    "#3. Calculadora Simple: Desarrolla una calculadora que realice operaciones básicas \n",
    "#(suma, resta, multiplicación, división) con dos números ingresados por el usuario. \n",
    "#El programa debe permitir al usuario realizar cálculos continuos hasta que decida salir."
   ]
  },
  {
   "cell_type": "code",
   "execution_count": 23,
   "metadata": {},
   "outputs": [
    {
     "name": "stdout",
     "output_type": "stream",
     "text": [
      "Operación no soportada\n",
      "Operación no soportada\n",
      "Operación no soportada\n",
      "Operación no soportada\n",
      "Operación no soportada\n",
      "Operación no soportada\n"
     ]
    }
   ],
   "source": [
    "\n",
    "operación = (input('¿Qué operación hacemos? Pulse + , - , x , /, E para salir'))\n",
    "\n",
    "while operación.lower() != 'e':\n",
    "\n",
    "    if operación in ['+', '-', 'x', '/', 'X']:\n",
    "        num1 = int(input('Primer número'))\n",
    "        num2 = int(input('Segundo número'))\n",
    "\n",
    "        if operación == '+':\n",
    "            resultado = num1 + num2\n",
    "        elif operación == '-':\n",
    "            resultado = num1 - num2\n",
    "        elif operación == 'x' or operación == 'X':\n",
    "            resultado = num1 * num2\n",
    "        elif operación == '/': \n",
    "            resultado = num1 / num2\n",
    "        print('El resultado de la operación elegida es', resultado)\n",
    "    else:\n",
    "        print('Operación no soportada')\n",
    "        \n",
    "\n",
    "    operación = (input('¿Qué operación hacemos? Pulse + , - , x , /, E para salir'))\n",
    "\n",
    "\n",
    "\n"
   ]
  },
  {
   "cell_type": "code",
   "execution_count": null,
   "metadata": {},
   "outputs": [],
   "source": []
  }
 ],
 "metadata": {
  "kernelspec": {
   "display_name": "Python 3",
   "language": "python",
   "name": "python3"
  },
  "language_info": {
   "codemirror_mode": {
    "name": "ipython",
    "version": 3
   },
   "file_extension": ".py",
   "mimetype": "text/x-python",
   "name": "python",
   "nbconvert_exporter": "python",
   "pygments_lexer": "ipython3",
   "version": "3.11.8"
  }
 },
 "nbformat": 4,
 "nbformat_minor": 2
}
