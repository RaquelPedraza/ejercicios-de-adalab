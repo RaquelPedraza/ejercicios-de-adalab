{
 "cells": [
  {
   "cell_type": "markdown",
   "metadata": {},
   "source": [
    "Parte 1: STRINGS"
   ]
  },
  {
   "cell_type": "code",
   "execution_count": 2,
   "metadata": {},
   "outputs": [],
   "source": [
    "#1. Dada una cadena de texto, contar cuántas veces aparece una letra específica en ella. Usa\n",
    "#un input para que el usuario elija la letra a buscar.\n",
    "#cadena = \"Python es un lenguaje de programación muy popular\""
   ]
  },
  {
   "cell_type": "code",
   "execution_count": 3,
   "metadata": {},
   "outputs": [
    {
     "name": "stdout",
     "output_type": "stream",
     "text": [
      "La letra '' aparece 50 veces en la cadena de texto.\n"
     ]
    }
   ],
   "source": [
    "cadena = \"Python es un lenguaje de programación muy popular\"\n",
    "letra = input((\"¿Qué letra quieres contar\").lower())\n",
    "contador = cadena.lower().count(letra)\n",
    "\n",
    "print(f\"La letra '{letra}' aparece {contador} veces en la cadena de texto.\")"
   ]
  },
  {
   "cell_type": "code",
   "execution_count": 4,
   "metadata": {},
   "outputs": [],
   "source": [
    "#2. Escribe un programa que tome la siguiente cadena de texto y reemplace una palabra\n",
    "#específica por otra palabra. La palabra a reemplazar y reemplazada deben ser elegidas\n",
    "#por el usuario.\n",
    "#cadena = \"Python es genial. Python es fácil de aprender.\""
   ]
  },
  {
   "cell_type": "code",
   "execution_count": 5,
   "metadata": {},
   "outputs": [
    {
     "name": "stdout",
     "output_type": "stream",
     "text": [
      "Python es genial. Python es fácil de aprender.\n"
     ]
    }
   ],
   "source": [
    "cadena1 = \"Python es genial. Python es fácil de aprender.\"\n",
    "palabra= input(\"Escoge una palabra de la siguiente cadena: Python es genial. Python es fácil de aprender.\")\n",
    "pal_reemplazar = input(\"Reemplaza la palabra elegida con otra de tu elección\")\n",
    "\n",
    "nueva_cadena = cadena1.replace(palabra, pal_reemplazar)\n",
    "print(nueva_cadena)"
   ]
  },
  {
   "cell_type": "code",
   "execution_count": 6,
   "metadata": {},
   "outputs": [],
   "source": [
    "#3. Toma la siguiente oración y divídela en una lista de palabras. Luego, únelas nuevamente\n",
    "#en una sola cadena de texto.\n",
    "#oracion = \"Esto es una oración de ejemplo\""
   ]
  },
  {
   "cell_type": "code",
   "execution_count": 7,
   "metadata": {},
   "outputs": [
    {
     "name": "stdout",
     "output_type": "stream",
     "text": [
      "['Esto', 'es', 'una', 'oración', 'de', 'ejemplo']\n",
      "Esto es una oración de ejemplo\n"
     ]
    }
   ],
   "source": [
    "oracion = \"Esto es una oración de ejemplo\"\n",
    "oracion_pal = oracion.split(' ')\n",
    "print(oracion_pal)\n",
    "oracion_nueva = ' '.join(oracion_pal)\n",
    "print(oracion_nueva)"
   ]
  },
  {
   "cell_type": "code",
   "execution_count": 8,
   "metadata": {},
   "outputs": [],
   "source": [
    "#4. Desarrolla un programa que cuente cuántas palabras hay en la siguiente frase.\n",
    "#cadena = \"Esta es una cadena con cinco palabras\""
   ]
  },
  {
   "cell_type": "code",
   "execution_count": 9,
   "metadata": {},
   "outputs": [
    {
     "name": "stdout",
     "output_type": "stream",
     "text": [
      "La cadena tiene 7 palabras\n"
     ]
    }
   ],
   "source": [
    "cadena = \"Esta es una cadena con cinco palabras\"\n",
    "lista_pal = cadena.split(\" \")\n",
    "cantidad_palabras = len(lista_pal)\n",
    "print(\"La cadena tiene\", cantidad_palabras, \"palabras\")"
   ]
  },
  {
   "cell_type": "code",
   "execution_count": 10,
   "metadata": {},
   "outputs": [],
   "source": [
    "#5. Escribe un programa que invierta una cadena de texto dada por un usuario. Mira el\n",
    "#siguiente ejemplo para entender lo que se pide:\n",
    "# input\n",
    "#\"Hola buenos dias\"\n",
    "# output\n",
    "#\"dias buenos Hola"
   ]
  },
  {
   "cell_type": "code",
   "execution_count": 11,
   "metadata": {},
   "outputs": [
    {
     "name": "stdout",
     "output_type": "stream",
     "text": [
      "\n"
     ]
    }
   ],
   "source": [
    "frase = input(\"Escribe una frase a invertir\")\n",
    "frase_invertida = frase[::-1]\n",
    "print(frase_invertida)"
   ]
  },
  {
   "cell_type": "code",
   "execution_count": 12,
   "metadata": {},
   "outputs": [],
   "source": [
    "#6. Crea un programa que busque una palabra específica(elegida por la usuaria) en una\n",
    "#cadena de texto e indique su posición."
   ]
  },
  {
   "cell_type": "code",
   "execution_count": 13,
   "metadata": {},
   "outputs": [
    {
     "name": "stdout",
     "output_type": "stream",
     "text": [
      "La palabra escogida es  y está en la posición 0\n"
     ]
    }
   ],
   "source": [
    "palabra_user = input(\"Escoge una palabra en la siguiente oración: Hay muchos árboles en este bosque\")\n",
    "cadena = \"Hay muchos árboles en este bosque\" \n",
    "posicion = cadena.find(palabra_user)\n",
    "print(\"La palabra escogida es\", palabra_user, \"y está en la posición\", posicion)"
   ]
  },
  {
   "cell_type": "markdown",
   "metadata": {},
   "source": [
    "Parte 2: LISTAS"
   ]
  },
  {
   "cell_type": "code",
   "execution_count": 14,
   "metadata": {},
   "outputs": [],
   "source": [
    "#1. Dada la siguiente lista: frutas = ['manzana', 'pera', 'banana', 'uva', 'kiwi'],\n",
    "#realiza lo siguiente:\n",
    "#a) Reemplaza el segundo elemento con 'durazno'.\n",
    "#b) Agrega 'naranja' al final de la lista.\n",
    "#c) Extrae y muestra por pantalla el tercer elemento de la lista."
   ]
  },
  {
   "cell_type": "code",
   "execution_count": 15,
   "metadata": {},
   "outputs": [
    {
     "name": "stdout",
     "output_type": "stream",
     "text": [
      "['manzana', 'durazno', 'banana', 'uva', 'kiwi', 'naranja']\n",
      "banana\n"
     ]
    }
   ],
   "source": [
    "frutas = ['manzana', 'pera', 'banana', 'uva', 'kiwi']\n",
    "#a)\n",
    "frutas [1] = 'durazno'\n",
    "#b)\n",
    "frutas.append('naranja')\n",
    "print(frutas)\n",
    "#c)\n",
    "print(frutas[2])"
   ]
  },
  {
   "cell_type": "code",
   "execution_count": 16,
   "metadata": {},
   "outputs": [],
   "source": [
    "#2. Crea una lista llamada numeros que contenga los siguientes valores: 10, 25, 15, 30, 20."
   ]
  },
  {
   "cell_type": "code",
   "execution_count": 62,
   "metadata": {},
   "outputs": [],
   "source": [
    "numeros = [10, 25, 15, 30, 20]"
   ]
  },
  {
   "cell_type": "code",
   "execution_count": 63,
   "metadata": {},
   "outputs": [],
   "source": [
    "#3. Agrega el valor 35 al incio de la lista numeros"
   ]
  },
  {
   "cell_type": "code",
   "execution_count": 67,
   "metadata": {},
   "outputs": [
    {
     "name": "stdout",
     "output_type": "stream",
     "text": [
      "[35, 10, 25, 15, 30, 20]\n"
     ]
    }
   ],
   "source": [
    "#dejo lista la función para borrar la inserción extra que ocurre al volver a ejecutar este código:\n",
    "#numeros.pop(0) \n",
    "numeros.insert(0, 35)\n",
    "print(numeros)"
   ]
  },
  {
   "cell_type": "code",
   "execution_count": 20,
   "metadata": {},
   "outputs": [],
   "source": [
    "#4. Ordena la lista numeros en orden ascendente."
   ]
  },
  {
   "cell_type": "code",
   "execution_count": 69,
   "metadata": {},
   "outputs": [
    {
     "name": "stdout",
     "output_type": "stream",
     "text": [
      "[10, 15, 20, 25, 30, 35]\n"
     ]
    }
   ],
   "source": [
    "numeros.sort()\n",
    "print(numeros)"
   ]
  },
  {
   "cell_type": "code",
   "execution_count": 22,
   "metadata": {},
   "outputs": [],
   "source": [
    "#5. Dada la siguiente lista numeros2 = [45, 22, 19, 38, 29]. Crea una nueva lista llamada\n",
    "#numeros3 donde tengamos la unión de los todos los elementos de las dos listas (numeros\n",
    "#y numeros2) de tal forma que el resultado final sea:\n",
    "#numeros3 = [10, 25, 15, 30, 20, 45, 22, 19, 38, 29]"
   ]
  },
  {
   "cell_type": "code",
   "execution_count": 66,
   "metadata": {},
   "outputs": [
    {
     "name": "stdout",
     "output_type": "stream",
     "text": [
      "[10, 25, 15, 30, 20, 45, 22, 19, 38, 29]\n"
     ]
    }
   ],
   "source": [
    "numeros2 = [45, 22, 19, 38, 29]\n",
    "numeros3 = numeros + numeros2\n",
    "print(numeros3)"
   ]
  },
  {
   "cell_type": "code",
   "execution_count": 24,
   "metadata": {},
   "outputs": [],
   "source": [
    "#6. Elimina el último elemento de la lista numeros3."
   ]
  },
  {
   "cell_type": "code",
   "execution_count": 70,
   "metadata": {},
   "outputs": [
    {
     "data": {
      "text/plain": [
       "[10, 25, 15, 30, 20, 45, 22, 19, 38]"
      ]
     },
     "execution_count": 70,
     "metadata": {},
     "output_type": "execute_result"
    }
   ],
   "source": [
    "numeros3.pop()\n",
    "numeros3"
   ]
  },
  {
   "cell_type": "code",
   "execution_count": 25,
   "metadata": {},
   "outputs": [],
   "source": [
    "#7. Elimina el número 30 de la lista numeros3."
   ]
  },
  {
   "cell_type": "code",
   "execution_count": 71,
   "metadata": {},
   "outputs": [
    {
     "data": {
      "text/plain": [
       "[10, 25, 15, 20, 45, 22, 19, 38]"
      ]
     },
     "execution_count": 71,
     "metadata": {},
     "output_type": "execute_result"
    }
   ],
   "source": [
    "numeros3.remove(30)\n",
    "numeros3"
   ]
  },
  {
   "cell_type": "markdown",
   "metadata": {},
   "source": [
    "Parte 3: TUPLAS"
   ]
  },
  {
   "cell_type": "code",
   "execution_count": 26,
   "metadata": {},
   "outputs": [],
   "source": [
    "#1. Crea una tupla llamada colores que contenga los siguientes valores: 'rojo', 'verde', 'azul',\n",
    "#'amarillo', 'morado'."
   ]
  },
  {
   "cell_type": "code",
   "execution_count": 73,
   "metadata": {},
   "outputs": [],
   "source": [
    "colores = ('rojo', 'verde', 'azul','amarillo', 'morado')"
   ]
  },
  {
   "cell_type": "code",
   "execution_count": 27,
   "metadata": {},
   "outputs": [],
   "source": [
    "#2. Encuentra el índice de 'verde' en la tupla colores."
   ]
  },
  {
   "cell_type": "code",
   "execution_count": 75,
   "metadata": {},
   "outputs": [
    {
     "data": {
      "text/plain": [
       "1"
      ]
     },
     "execution_count": 75,
     "metadata": {},
     "output_type": "execute_result"
    }
   ],
   "source": [
    "colores.index('verde')"
   ]
  },
  {
   "cell_type": "code",
   "execution_count": 28,
   "metadata": {},
   "outputs": [],
   "source": [
    "#3. ¿Cuántas veces aparece 'azul' en la tupla colores?"
   ]
  },
  {
   "cell_type": "code",
   "execution_count": 76,
   "metadata": {},
   "outputs": [
    {
     "data": {
      "text/plain": [
       "1"
      ]
     },
     "execution_count": 76,
     "metadata": {},
     "output_type": "execute_result"
    }
   ],
   "source": [
    "colores.count('azul')"
   ]
  },
  {
   "cell_type": "code",
   "execution_count": 29,
   "metadata": {},
   "outputs": [],
   "source": [
    "#4. Añade el color \"morado\" a la tupla colores. ¿Qué ha pasado? ¿Por qué? Como podríamos\n",
    "#añadir el elemento \"morado\"."
   ]
  },
  {
   "cell_type": "code",
   "execution_count": 110,
   "metadata": {},
   "outputs": [
    {
     "data": {
      "text/plain": [
       "('rojo', 'verde', 'azul', 'amarillo', 'morado', 'naranja')"
      ]
     },
     "execution_count": 110,
     "metadata": {},
     "output_type": "execute_result"
    }
   ],
   "source": [
    "#en las tuplas no existe la función add(), pues las tuplas no son modificables\n",
    "colores_lista = list(colores)\n",
    "colores_lista.append('naranja')\n",
    "colores = tuple(colores_lista)\n",
    "colores"
   ]
  },
  {
   "cell_type": "markdown",
   "metadata": {},
   "source": [
    "Parte 4: DICCIONARIOS"
   ]
  },
  {
   "cell_type": "code",
   "execution_count": 30,
   "metadata": {},
   "outputs": [],
   "source": [
    "#1. Crea un diccionario llamado frutas con las siguientes parejas clave-valor:\n",
    "#'manzana': 2\n",
    "#'banana': 3\n",
    "#'uva': 5\n",
    "#'pera': 4"
   ]
  },
  {
   "cell_type": "code",
   "execution_count": 31,
   "metadata": {},
   "outputs": [
    {
     "data": {
      "text/plain": [
       "{'manzana': 2, 'banana': 3, 'uva': 5, 'pera': 4}"
      ]
     },
     "execution_count": 31,
     "metadata": {},
     "output_type": "execute_result"
    }
   ],
   "source": [
    "frutas = {'manzana': 2, 'banana': 3, 'uva': 5, 'pera': 4}\n",
    "frutas"
   ]
  },
  {
   "cell_type": "code",
   "execution_count": 32,
   "metadata": {},
   "outputs": [],
   "source": [
    "#2. Saca una lista de todas las frutas en el diccionario."
   ]
  },
  {
   "cell_type": "code",
   "execution_count": 33,
   "metadata": {},
   "outputs": [
    {
     "name": "stdout",
     "output_type": "stream",
     "text": [
      "['manzana', 'banana', 'uva', 'pera']\n"
     ]
    },
    {
     "data": {
      "text/plain": [
       "dict_keys(['manzana', 'banana', 'uva', 'pera'])"
      ]
     },
     "execution_count": 33,
     "metadata": {},
     "output_type": "execute_result"
    }
   ],
   "source": [
    "print(list(frutas))\n",
    "# o\n",
    "frutas.keys()"
   ]
  },
  {
   "cell_type": "code",
   "execution_count": 34,
   "metadata": {},
   "outputs": [],
   "source": [
    "#3. Saca una lista de todas las cantidades en el diccionario."
   ]
  },
  {
   "cell_type": "code",
   "execution_count": 35,
   "metadata": {},
   "outputs": [
    {
     "data": {
      "text/plain": [
       "dict_values([2, 3, 5, 4])"
      ]
     },
     "execution_count": 35,
     "metadata": {},
     "output_type": "execute_result"
    }
   ],
   "source": [
    "frutas.values()"
   ]
  },
  {
   "cell_type": "code",
   "execution_count": 36,
   "metadata": {},
   "outputs": [],
   "source": [
    "#4. ¿Qué cantidad de 'manzana' tenemos?. Si la clave 'manzana' no está presente, devuelve\n",
    "#un mensaje diciendo \"No existe esa clave\"."
   ]
  },
  {
   "cell_type": "code",
   "execution_count": 37,
   "metadata": {},
   "outputs": [
    {
     "name": "stdout",
     "output_type": "stream",
     "text": [
      "2\n"
     ]
    },
    {
     "data": {
      "text/plain": [
       "2"
      ]
     },
     "execution_count": 37,
     "metadata": {},
     "output_type": "execute_result"
    }
   ],
   "source": [
    "print(frutas.get('manzana', 'No existe esa clave'))\n",
    "frutas.setdefault('manzana', 'No existe esa clave')"
   ]
  },
  {
   "cell_type": "code",
   "execution_count": 38,
   "metadata": {},
   "outputs": [],
   "source": [
    "#5. Agrega un nuevo par de clave-valor al diccionario frutas: 'kiwi' con una cantidad de 6."
   ]
  },
  {
   "cell_type": "code",
   "execution_count": 39,
   "metadata": {},
   "outputs": [
    {
     "data": {
      "text/plain": [
       "{'manzana': 2, 'banana': 3, 'uva': 5, 'pera': 4, 'kiwi': 6}"
      ]
     },
     "execution_count": 39,
     "metadata": {},
     "output_type": "execute_result"
    }
   ],
   "source": [
    "frutas.update({'kiwi': 6})\n",
    "frutas"
   ]
  },
  {
   "cell_type": "code",
   "execution_count": 40,
   "metadata": {},
   "outputs": [],
   "source": [
    "#6. Cambia la cantidad de 'uva' a 8."
   ]
  },
  {
   "cell_type": "code",
   "execution_count": 41,
   "metadata": {},
   "outputs": [
    {
     "data": {
      "text/plain": [
       "{'manzana': 2, 'banana': 3, 'uva': 8, 'pera': 4, 'kiwi': 6}"
      ]
     },
     "execution_count": 41,
     "metadata": {},
     "output_type": "execute_result"
    }
   ],
   "source": [
    "frutas ['uva'] = 8\n",
    "frutas"
   ]
  },
  {
   "cell_type": "code",
   "execution_count": 42,
   "metadata": {},
   "outputs": [],
   "source": [
    "#7. Crea un segundo diccionario llamado frutas_nuevas con las siguientes parejas clavevalor:\n",
    "#'sandía': 7\n",
    "#'mango': 4"
   ]
  },
  {
   "cell_type": "code",
   "execution_count": 43,
   "metadata": {},
   "outputs": [
    {
     "data": {
      "text/plain": [
       "{'sandía': 7, 'mango': 4}"
      ]
     },
     "execution_count": 43,
     "metadata": {},
     "output_type": "execute_result"
    }
   ],
   "source": [
    "frutas_nuevas = {'sandía': 7, 'mango': 4}\n",
    "frutas_nuevas"
   ]
  },
  {
   "cell_type": "code",
   "execution_count": 44,
   "metadata": {},
   "outputs": [],
   "source": [
    "#8. Combinar los dos diccionarios frutas_nuevas y frutas en uno nuevos llamado\n",
    "#frutas_total."
   ]
  },
  {
   "cell_type": "code",
   "execution_count": 45,
   "metadata": {},
   "outputs": [
    {
     "name": "stdout",
     "output_type": "stream",
     "text": [
      "{'sandía': 7, 'mango': 4, 'manzana': 2, 'banana': 3, 'uva': 8, 'pera': 4, 'kiwi': 6}\n",
      "{'manzana': 2, 'banana': 3, 'uva': 8, 'pera': 4, 'kiwi': 6, 'sandía': 7, 'mango': 4}\n"
     ]
    }
   ],
   "source": [
    "frutas_total = {}\n",
    "frutas_total.update(frutas_nuevas)\n",
    "frutas_total.update(frutas)\n",
    "print(frutas_total)\n",
    "\n",
    "# o\n",
    "\n",
    "frutas2 = frutas.copy()\n",
    "frutas2.update(frutas_nuevas)\n",
    "print(frutas2)"
   ]
  },
  {
   "cell_type": "code",
   "execution_count": 46,
   "metadata": {},
   "outputs": [],
   "source": [
    "#9. Elimina el último par de clave-valor del diccionario fruta_total."
   ]
  },
  {
   "cell_type": "code",
   "execution_count": 47,
   "metadata": {},
   "outputs": [
    {
     "data": {
      "text/plain": [
       "('kiwi', 6)"
      ]
     },
     "execution_count": 47,
     "metadata": {},
     "output_type": "execute_result"
    }
   ],
   "source": [
    "frutas_total.popitem()"
   ]
  },
  {
   "cell_type": "code",
   "execution_count": 48,
   "metadata": {},
   "outputs": [],
   "source": [
    "#10. Elimina el par de clave-valor correspondiente a la clave 'uva' del diccionario."
   ]
  },
  {
   "cell_type": "code",
   "execution_count": 49,
   "metadata": {},
   "outputs": [
    {
     "data": {
      "text/plain": [
       "{'sandía': 7, 'mango': 4, 'manzana': 2, 'banana': 3, 'pera': 4}"
      ]
     },
     "execution_count": 49,
     "metadata": {},
     "output_type": "execute_result"
    }
   ],
   "source": [
    "frutas_total.pop('uva')\n",
    "frutas_total"
   ]
  },
  {
   "cell_type": "code",
   "execution_count": 50,
   "metadata": {},
   "outputs": [],
   "source": [
    "#11. Agregar la fruta 'manzana' con una cantidad de 10 al diccionario. Si ya existe, no se\n",
    "#realizarán cambios en los valores que teníamos."
   ]
  },
  {
   "cell_type": "code",
   "execution_count": 51,
   "metadata": {},
   "outputs": [
    {
     "data": {
      "text/plain": [
       "{'sandía': 7, 'mango': 4, 'manzana': 2, 'banana': 3, 'pera': 4}"
      ]
     },
     "execution_count": 51,
     "metadata": {},
     "output_type": "execute_result"
    }
   ],
   "source": [
    "frutas_total.setdefault('manzana', 10)\n",
    "frutas_total"
   ]
  },
  {
   "cell_type": "code",
   "execution_count": 52,
   "metadata": {},
   "outputs": [],
   "source": [
    "#12. Combinar métodos de listas y diccionarios:\n",
    "#Obtén una lista de todas las cantidades en el diccionario y calcula suma total de las\n",
    "#cantidades del diccionario frutas_total.\n",
    "#Utilizando la lista creada en el apartado anterior encuentra la cantidad más grande y\n",
    "#más pequeña."
   ]
  },
  {
   "cell_type": "code",
   "execution_count": 53,
   "metadata": {},
   "outputs": [
    {
     "name": "stdout",
     "output_type": "stream",
     "text": [
      "Lista de cantidades: [7, 4, 2, 3, 4]\n",
      "Suma total de las cantidades: 20\n"
     ]
    }
   ],
   "source": [
    "cantidades = list(frutas_total.values())\n",
    "suma_total = sum(cantidades)\n",
    "\n",
    "print(\"Lista de cantidades:\", cantidades)\n",
    "print(\"Suma total de las cantidades:\", suma_total)\n"
   ]
  },
  {
   "cell_type": "markdown",
   "metadata": {},
   "source": [
    "Parte 5: Métodos de SETS"
   ]
  },
  {
   "cell_type": "code",
   "execution_count": 54,
   "metadata": {},
   "outputs": [],
   "source": [
    "#1. Crea un set llamado conjunto1 con los números del 1 al 5."
   ]
  },
  {
   "cell_type": "code",
   "execution_count": 128,
   "metadata": {},
   "outputs": [],
   "source": [
    "conjunto1 = {1,2,3,4,5}"
   ]
  },
  {
   "cell_type": "code",
   "execution_count": 55,
   "metadata": {},
   "outputs": [],
   "source": [
    "#2. Crea otro set llamado conjunto2 con los números del 4 al 8."
   ]
  },
  {
   "cell_type": "code",
   "execution_count": 134,
   "metadata": {},
   "outputs": [],
   "source": [
    "conjunto2 = {4, 5, 6, 7, 8}"
   ]
  },
  {
   "cell_type": "code",
   "execution_count": 56,
   "metadata": {},
   "outputs": [],
   "source": [
    "#3. Obtén la unión de conjunto1 y conjunto2."
   ]
  },
  {
   "cell_type": "code",
   "execution_count": 132,
   "metadata": {},
   "outputs": [
    {
     "data": {
      "text/plain": [
       "{1, 2, 3, 4, 5, 6, 7, 8}"
      ]
     },
     "execution_count": 132,
     "metadata": {},
     "output_type": "execute_result"
    }
   ],
   "source": [
    "conjunto1.union(conjunto2)"
   ]
  },
  {
   "cell_type": "code",
   "execution_count": 57,
   "metadata": {},
   "outputs": [],
   "source": [
    "#4. Obtén la intersección de conjunto1 y conjunto2."
   ]
  },
  {
   "cell_type": "code",
   "execution_count": 133,
   "metadata": {},
   "outputs": [
    {
     "data": {
      "text/plain": [
       "{4, 5}"
      ]
     },
     "execution_count": 133,
     "metadata": {},
     "output_type": "execute_result"
    }
   ],
   "source": [
    "interseccion = conjunto1.intersection(conjunto2) \n",
    "interseccion"
   ]
  },
  {
   "cell_type": "code",
   "execution_count": 58,
   "metadata": {},
   "outputs": [],
   "source": [
    "#5. Obtén los elementos que están en conjunto1 pero no en el conjunto2."
   ]
  },
  {
   "cell_type": "code",
   "execution_count": 122,
   "metadata": {},
   "outputs": [
    {
     "data": {
      "text/plain": [
       "{1, 2, 3}"
      ]
     },
     "execution_count": 122,
     "metadata": {},
     "output_type": "execute_result"
    }
   ],
   "source": [
    "conjunto1.difference(conjunto2)"
   ]
  },
  {
   "cell_type": "markdown",
   "metadata": {},
   "source": [
    "Parte 6: SENTENCIAS DE CONTROL"
   ]
  },
  {
   "cell_type": "code",
   "execution_count": 59,
   "metadata": {},
   "outputs": [],
   "source": [
    "#Ejercicio 1: Evaluación de Edades:\n",
    "#Escribe un programa que solicite al usuario ingresar su edad.\n",
    "#Si la edad es menor de 18, muestra \"Eres menor de edad\".\n",
    "#Si la edad está entre 18 y 65 (incluyendo ambos extremos), muestra \"Eres adulto\".\n",
    "#Si la edad es mayor que 65, muestra \"Eres un adulto mayor\"."
   ]
  },
  {
   "cell_type": "code",
   "execution_count": 138,
   "metadata": {},
   "outputs": [
    {
     "name": "stdout",
     "output_type": "stream",
     "text": [
      "Eres adulto\n"
     ]
    }
   ],
   "source": [
    "edad = int(input(\"Introduce tu edad\"))\n",
    "if edad < 18:\n",
    "    print(\"Eres menor de edad\") \n",
    "elif edad >= 18 and edad <= 65:\n",
    "    print(\"Eres adulto\")\n",
    "else: \n",
    "    print(\"Eres un adulto mayor\")"
   ]
  },
  {
   "cell_type": "code",
   "execution_count": null,
   "metadata": {},
   "outputs": [],
   "source": [
    "#Ejercicio 2: Determinación de Día de la Semana\n",
    "#Solicita al usuario que ingrese un número del 1 al 7.\n",
    "#Utilizando una serie de if-elif-else, muestra el día de la semana correspondiente\n",
    "#al número ingresado. Por ejemplo, si ingresa 1, muestra \"Lunes\"."
   ]
  },
  {
   "cell_type": "code",
   "execution_count": 139,
   "metadata": {},
   "outputs": [
    {
     "name": "stdout",
     "output_type": "stream",
     "text": [
      "Domingo\n"
     ]
    }
   ],
   "source": [
    "num_semana = int(input(\"Escribe un número del 1 al 7\")) \n",
    "if num_semana == 1:\n",
    "    print(\"Lunes\")\n",
    "elif num_semana == 2:\n",
    "    print(\"Martes\")\n",
    "elif num_semana == 3:\n",
    "    print(\"Miércoles\")\n",
    "elif num_semana == 4:\n",
    "    print(\"Jueves\")\n",
    "elif num_semana == 5:\n",
    "    print(\"Viernes\")\n",
    "elif num_semana == 6:\n",
    "    print(\"Sábado\")\n",
    "elif num_semana == 7:\n",
    "    print(\"Domingo\")\n",
    "else: \n",
    "    print(\"Escribe un número del 1 al 7\")"
   ]
  },
  {
   "cell_type": "code",
   "execution_count": null,
   "metadata": {},
   "outputs": [],
   "source": [
    "#Ejercicio 3: Juego de Adivinanza\n",
    "#Genera un número aleatorio entre 1 y 100.\n",
    "#Pídele al usuario que adivine el número.\n",
    "#Si el usuario adivina correctamente en el primer intento, muestra \"¡Ganaste en el\n",
    "#primer intento!\".\n",
    "#Si el usuario no adivina en el primer intento, bríndale pistas (mayor o menor) y\n",
    "#permite que intente nuevamente. Muestra cuántos intentos le llevó al final."
   ]
  },
  {
   "cell_type": "code",
   "execution_count": 140,
   "metadata": {},
   "outputs": [
    {
     "name": "stdout",
     "output_type": "stream",
     "text": [
      "El número que buscas es menor\n",
      "El número que buscas es menor\n",
      "El número que buscas es menor\n",
      "El número que buscas es menor\n",
      "El número que buscas es mayor\n",
      "¡Has ganado en 6 intentos!\n"
     ]
    }
   ],
   "source": [
    "import random\n",
    "\n",
    "numero_aleatorio = random.randrange(1, 101)\n",
    "adivinar = int(input(\"Adivina un número entre el 1 y el 100\"))\n",
    "if adivinar == numero_aleatorio:\n",
    "    print(\"¡Ganaste en el primer intento!\" )\n",
    "        \n",
    "intentos = 0\n",
    "while adivinar != numero_aleatorio:\n",
    "    adivinar = int(input(\"Adivina un número entre el 1 y el 100\"))\n",
    "    intentos += 1\n",
    "    \n",
    "    if adivinar == numero_aleatorio: \n",
    "        print(\"¡Has ganado en\", intentos, \"intentos!\")\n",
    "        break\n",
    "    elif numero_aleatorio > adivinar:\n",
    "        print(\"El número que buscas es mayor\")\n",
    "    else:\n",
    "        print(\"El número que buscas es menor\")\n"
   ]
  },
  {
   "cell_type": "code",
   "execution_count": null,
   "metadata": {},
   "outputs": [],
   "source": [
    "#Ejercicio 4: Juego de Adivinar la Palabra\n",
    "#Elige una palabra secreta y ocúltala utilizando asteriscos, por ejemplo, \"secreto\" se\n",
    "#muestra como \"*******\".\n",
    "#Permite al usuario adivinar letras una por una.\n",
    "#Si la letra adivinada está en la palabra secreta, muestra la palabra con las letras\n",
    "#descubiertas y los asteriscos.\n",
    "#Si la letra no está en la palabra secreta, resta una vida al jugador.\n",
    "#El juego continúa hasta que el jugador adivine la palabra."
   ]
  },
  {
   "cell_type": "code",
   "execution_count": null,
   "metadata": {},
   "outputs": [
    {
     "name": "stdout",
     "output_type": "stream",
     "text": [
      "Palabra: **********\n"
     ]
    },
    {
     "name": "stdout",
     "output_type": "stream",
     "text": [
      "La letra no está en la palabra secreta. Te quedan 7 vidas.\n",
      "**********\n",
      "La letra no está en la palabra secreta. Te quedan 6 vidas.\n",
      "**********\n",
      "* o * * * * * * * *\n",
      "* o * * * * * * * *\n",
      "* o n * * * * * * *\n",
      "* o n * * * * * * *\n",
      "* o n * * * * * * *\n",
      "* o n s * * * * * *\n",
      "* o n s * * * * * *\n",
      "* o n s t * * * * *\n",
      "* o n s t * * * * *\n",
      "* o n s t * * * * *\n",
      "* o n s t a * * * *\n",
      "* o n s t a * * * *\n",
      "* o n s t a * * * *\n",
      "* o n s t a * * * *\n",
      "* o n s t a * * * *\n",
      "* o n s t a * * * *\n",
      "* o n s t a * * * *\n",
      "c o n s t a * * * *\n",
      "c o n s t a * * * *\n",
      "c o n s t a * * * *\n",
      "c o n s t a * * * *\n",
      "c o n s t a * * * *\n",
      "c o n s t a * * * *\n",
      "c o n s t a * * * *\n",
      "c o n s t a * * * *\n",
      "c o n s t a * * * *\n"
     ]
    }
   ],
   "source": [
    "palabra_secreta = 'constancia'\n",
    "palabra_secreta_letras = ['c','o', 'n', 's', 't', 'a', 'n', 'c', 'i', 'a']\n",
    "palabra_oculta = '*' * len(palabra_secreta)\n",
    "palabra_oculta_letras = ['*','*', '*', '*', '*', '*', '*', '*', '*', '*']\n",
    "print(\"Palabra:\", palabra_oculta)\n",
    "\n",
    "vidas = 7\n",
    "while vidas > 0 and '*' in palabra_oculta:\n",
    "\n",
    "    adivina_letra = input(\"Escribe una letra para adivinar la palabra secreta\").lower()\n",
    "    \n",
    "    if adivina_letra in palabra_secreta:\n",
    "        # Actualiza la palabra oculta con las letras descubiertas \n",
    "        posicion_letra = palabra_secreta_letras.index(adivina_letra)\n",
    "        # Reemplaza el asterisco correspondiente en la lista de letras ocultas con la letra adivinada\n",
    "        palabra_oculta_letras[posicion_letra] = adivina_letra\n",
    "        palabra_oculta = \" \".join( palabra_oculta_letras)\n",
    "        print(palabra_oculta)\n",
    "    else:\n",
    "        print(\"La letra no está en la palabra secreta. Te quedan\", vidas, \"vidas.\")\n",
    "        vidas -= 1\n",
    "        palabra_oculta = \"\".join( palabra_oculta_letras)\n",
    "        print(palabra_oculta)\n",
    "        \n",
    "# Verifica si todas las letras han sido descubiertas\n",
    "if palabra_oculta == palabra_secreta:\n",
    "    print(\"¡Felicidades! Has adivinado la palabra secreta:\", palabra_secreta)\n",
    "else:\n",
    "    print(\"¡Oh no! Te has quedado sin vidas. La palabra secreta era:\", palabra_secreta)   \n"
   ]
  },
  {
   "cell_type": "code",
   "execution_count": null,
   "metadata": {},
   "outputs": [
    {
     "name": "stdout",
     "output_type": "stream",
     "text": [
      "Palabra: **********\n",
      "La letra no está en la palabra secreta. Te quedan 6 vidas.\n",
      "**********\n",
      "La letra no está en la palabra secreta. Te quedan 5 vidas.\n",
      "**********\n",
      "**********\n",
      "La letra no está en la palabra secreta. Te quedan 4 vidas.\n",
      "**********\n",
      "La letra no está en la palabra secreta. Te quedan 3 vidas.\n",
      "**********\n",
      "La letra no está en la palabra secreta. Te quedan 2 vidas.\n",
      "**********\n",
      "La letra no está en la palabra secreta. Te quedan 1 vidas.\n",
      "**********\n",
      "La letra no está en la palabra secreta. Te quedan 0 vidas.\n",
      "**********\n",
      "¡Oh no! Te has quedado sin vidas. La palabra secreta era: constancia\n"
     ]
    },
    {
     "ename": "",
     "evalue": "",
     "output_type": "error",
     "traceback": [
      "\u001b[1;31mThe Kernel crashed while executing code in the current cell or a previous cell. \n",
      "\u001b[1;31mPlease review the code in the cell(s) to identify a possible cause of the failure. \n",
      "\u001b[1;31mClick <a href='https://aka.ms/vscodeJupyterKernelCrash'>here</a> for more info. \n",
      "\u001b[1;31mView Jupyter <a href='command:jupyter.viewOutput'>log</a> for further details."
     ]
    }
   ],
   "source": [
    "palabra_secreta = 'constancia'\n",
    "palabra_oculta = '*' * len(palabra_secreta)\n",
    "vidas = 7\n",
    "\n",
    "print(\"Palabra:\", palabra_oculta)\n",
    "\n",
    "while vidas > 0 and '*' in palabra_oculta:\n",
    "    adivina_letra = input(\"Escribe una letra para adivinar la palabra secreta: \").lower()\n",
    "    \n",
    "    if adivina_letra in palabra_secreta:\n",
    "        # Reemplaza los asteriscos correspondientes en la palabra oculta con la letra adivinada\n",
    "        palabra_oculta = ''.join(letra if letra == adivina_letra or letra_descubierta == letra else '*' for letra, letra_descubierta in zip(palabra_secreta, palabra_oculta))\n",
    "        print(palabra_oculta)\n",
    "    else:\n",
    "        vidas -= 1\n",
    "        print(\"La letra no está en la palabra secreta. Te quedan\", vidas, \"vidas.\")\n",
    "        print(palabra_oculta)\n",
    "\n",
    "# Verifica si todas las letras han sido descubiertas\n",
    "if '*' not in palabra_oculta:\n",
    "    print(\"¡Felicidades! Has adivinado la palabra secreta:\", palabra_secreta)\n",
    "else:\n",
    "    print(\"¡Oh no! Te has quedado sin vidas. La palabra secreta era:\", palabra_secreta)\n"
   ]
  },
  {
   "cell_type": "code",
   "execution_count": null,
   "metadata": {},
   "outputs": [
    {
     "name": "stdout",
     "output_type": "stream",
     "text": [
      "Esa letra no se encuentra en la palabra\n",
      "Te quedan 9 vidas\n",
      "Esa letra no se encuentra en la palabra\n",
      "Te quedan 8 vidas\n",
      "o*****\n",
      "Te quedan 8 vidas\n",
      "o*****\n",
      "Te quedan 8 vidas\n",
      "or****\n",
      "Te quedan 8 vidas\n",
      "or****\n",
      "Te quedan 8 vidas\n",
      "ord***\n",
      "Te quedan 8 vidas\n",
      "ord***\n",
      "Te quedan 8 vidas\n",
      "ord***\n",
      "Te quedan 8 vidas\n",
      "orde**\n",
      "Te quedan 8 vidas\n",
      "orde**\n",
      "Te quedan 8 vidas\n",
      "orde**\n",
      "Te quedan 8 vidas\n",
      "orden*\n",
      "Te quedan 8 vidas\n",
      "orden*\n",
      "Te quedan 8 vidas\n",
      "ordena\n",
      "Te quedan 8 vidas\n",
      "Esa letra no se encuentra en la palabra\n",
      "Te quedan 7 vidas\n"
     ]
    }
   ],
   "source": [
    "palabra_secreta = {\"o\": \"*\", \"r\": \"*\", \"d\": \"*\", \"e\": \"*\", \"n\": \"*\", \"a\": \"*\", \"d\": \"*\", \"o\": \"*\", \"r\": \"*\"}\n",
    "\n",
    "vida = 10\n",
    "respuesta = \"\".join(palabra_secreta.values())\n",
    "\n",
    "while respuesta != \"ordenador\" and vida >= 1:\n",
    "    pregunta = input(\"Introduce una letra que pueda estar en la palabra\").lower()\n",
    "\n",
    "    if pregunta in palabra_secreta:\n",
    "        palabra_secreta[pregunta] = pregunta\n",
    "        respuesta = \"\".join(palabra_secreta.values())\n",
    "        print(respuesta)\n",
    "        print(f\"Te quedan {vida} vidas\")\n",
    "    else:\n",
    "        \n",
    "        print(\"Esa letra no se encuentra en la palabra\")\n",
    "        vida -= 1\n",
    "        print(f\"Te quedan {vida} vidas\")\n",
    "\n",
    "\n",
    "if vida == 0:\n",
    "    print(\"Se te acabaron las vidas\")\n",
    "else:\n",
    "    print(f\"¡Enhorabuena!, la palabra era {respuesta}, acabaste con {vida} vidas\")"
   ]
  },
  {
   "cell_type": "code",
   "execution_count": null,
   "metadata": {},
   "outputs": [
    {
     "name": "stdout",
     "output_type": "stream",
     "text": [
      "Palabra secreta: *********\n",
      "Esa letra no se encuentra en la palabra\n",
      "Te quedan 9 vidas\n",
      "Palabra secreta: *********\n",
      "¡Correcto!\n",
      "Palabra secreta: o******o*\n",
      "¡Correcto!\n",
      "Palabra secreta: or*****or\n",
      "¡Correcto!\n",
      "Palabra secreta: or*****or\n",
      "¡Correcto!\n",
      "Palabra secreta: ord***dor\n",
      "¡Correcto!\n",
      "Palabra secreta: ord***dor\n",
      "¡Correcto!\n",
      "Palabra secreta: orde**dor\n",
      "¡Correcto!\n",
      "Palabra secreta: orden*dor\n",
      "¡Correcto!\n",
      "¡Enhorabuena!, la palabra era ordenador, acabaste con 9 vidas\n"
     ]
    }
   ],
   "source": [
    "palabra_secreta = \"ordenador\"\n",
    "palabra_oculta = [\"*\"] * len(palabra_secreta)\n",
    "vida = 10\n",
    "\n",
    "while \"*\" in palabra_oculta and vida >= 1:\n",
    "    print(\"Palabra secreta:\", \"\".join(palabra_oculta))\n",
    "    pregunta = input(\"Introduce una letra que pueda estar en la palabra: \").lower()\n",
    "\n",
    "    if pregunta in palabra_secreta:\n",
    "        for i in range(len(palabra_secreta)):\n",
    "            if palabra_secreta[i] == pregunta:\n",
    "                palabra_oculta[i] = pregunta\n",
    "        print(\"¡Correcto!\")\n",
    "    else:\n",
    "        print(\"Esa letra no se encuentra en la palabra\")\n",
    "        vida -= 1\n",
    "        print(f\"Te quedan {vida} vidas\")\n",
    "\n",
    "if vida == 0:\n",
    "    print(\"Se te acabaron las vidas\")\n",
    "else:\n",
    "    print(f\"¡Enhorabuena!, la palabra era {palabra_secreta}, acabaste con {vida} vidas\")\n"
   ]
  }
 ],
 "metadata": {
  "kernelspec": {
   "display_name": "Python 3",
   "language": "python",
   "name": "python3"
  },
  "language_info": {
   "codemirror_mode": {
    "name": "ipython",
    "version": 3
   },
   "file_extension": ".py",
   "mimetype": "text/x-python",
   "name": "python",
   "nbconvert_exporter": "python",
   "pygments_lexer": "ipython3",
   "version": "3.11.8"
  }
 },
 "nbformat": 4,
 "nbformat_minor": 2
}
