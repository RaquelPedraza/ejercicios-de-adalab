{
 "cells": [
  {
   "cell_type": "code",
   "execution_count": null,
   "metadata": {},
   "outputs": [],
   "source": [
    "# 1. Crea una variable que sea igual a \"Python\" y genera un código que nos printee todas las letras menos la \"P\" usando la sentencia `continue`."
   ]
  },
  {
   "cell_type": "code",
   "execution_count": 5,
   "metadata": {},
   "outputs": [
    {
     "name": "stdout",
     "output_type": "stream",
     "text": [
      "y\n",
      "t\n",
      "h\n",
      "o\n",
      "n\n"
     ]
    }
   ],
   "source": [
    "pal = \"Python\"\n",
    "for letra in pal: \n",
    "    if 'P' == letra:\n",
    "        continue\n",
    "    print(letra)"
   ]
  },
  {
   "cell_type": "code",
   "execution_count": null,
   "metadata": {},
   "outputs": [],
   "source": [
    "# 2. De la frase `'Hello'` imprime todas las letras que no sean una `'l'` usando `if`."
   ]
  },
  {
   "cell_type": "code",
   "execution_count": 7,
   "metadata": {},
   "outputs": [
    {
     "name": "stdout",
     "output_type": "stream",
     "text": [
      "H\n",
      "e\n",
      "o\n"
     ]
    }
   ],
   "source": [
    "frase = 'Hello'\n",
    "for letra in frase:\n",
    "    if letra == 'l':\n",
    "        pass\n",
    "    print(letra)"
   ]
  },
  {
   "cell_type": "code",
   "execution_count": null,
   "metadata": {},
   "outputs": [],
   "source": [
    "# 3. Haz lo mismo que en 2 usando `continue`."
   ]
  },
  {
   "cell_type": "code",
   "execution_count": null,
   "metadata": {},
   "outputs": [],
   "source": [
    "frase = 'Hello'\n",
    "for letra in frase:\n",
    "    if letra == 'l':\n",
    "        continue\n",
    "    print(letra)"
   ]
  },
  {
   "cell_type": "code",
   "execution_count": null,
   "metadata": {},
   "outputs": [],
   "source": [
    "# 4. De la frase `'Hello'` imprime todas las letras parando el bucle si encuentras una `'o'`."
   ]
  },
  {
   "cell_type": "code",
   "execution_count": null,
   "metadata": {},
   "outputs": [],
   "source": []
  },
  {
   "cell_type": "code",
   "execution_count": null,
   "metadata": {},
   "outputs": [],
   "source": [
    "# 5. Define  la variable `doce = '12'` y `seis = 6`. Intenta sumarlos. En el caso de que te salga un error imprime `'¡Un error!'`. Para eso usa un `try` ... `except`"
   ]
  },
  {
   "cell_type": "code",
   "execution_count": null,
   "metadata": {},
   "outputs": [],
   "source": [
    "# 6. Basándonos en el ejercicio anterior, sin usar un `try` ... `except`, ¿cómo podríamos solucionar el problema? "
   ]
  },
  {
   "cell_type": "code",
   "execution_count": null,
   "metadata": {},
   "outputs": [],
   "source": [
    "# 7. Solicita al usuario ingresar números enteros positivos hasta que ingrese un número negativo. Luego, muestra la suma de todos los números pares ingresados."
   ]
  },
  {
   "cell_type": "code",
   "execution_count": null,
   "metadata": {},
   "outputs": [],
   "source": [
    "# 8. Solicita al usuario ingresar dos números y muestra el resultado de dividir el primero por el segundo. Asegúrate de manejar la excepción si el segundo número es cero."
   ]
  },
  {
   "cell_type": "code",
   "execution_count": null,
   "metadata": {},
   "outputs": [],
   "source": [
    "#  9. Solicita al usuario ingresar un número y muestra su raíz cuadrada. Maneja la excepción si el número es negativo."
   ]
  },
  {
   "cell_type": "code",
   "execution_count": null,
   "metadata": {},
   "outputs": [],
   "source": [
    "# 10. Crea una lista de números y solicita al usuario ingresar un índice para acceder a un elemento de la lista. Maneja la excepción si el índice está fuera de rango."
   ]
  }
 ],
 "metadata": {
  "kernelspec": {
   "display_name": "Python 3",
   "language": "python",
   "name": "python3"
  },
  "language_info": {
   "codemirror_mode": {
    "name": "ipython",
    "version": 3
   },
   "file_extension": ".py",
   "mimetype": "text/x-python",
   "name": "python",
   "nbconvert_exporter": "python",
   "pygments_lexer": "ipython3",
   "version": "3.11.8"
  }
 },
 "nbformat": 4,
 "nbformat_minor": 2
}
