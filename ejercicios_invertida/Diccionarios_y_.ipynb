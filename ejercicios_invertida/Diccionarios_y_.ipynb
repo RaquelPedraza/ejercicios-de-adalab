{
 "cells": [
  {
   "cell_type": "code",
   "execution_count": 1,
   "metadata": {},
   "outputs": [],
   "source": [
    "habitantes = {'Salamanca': 50000, \n",
    "            'Mallorca': 35000, \n",
    "            'Madrid': 5000000, \n",
    "            'Alicante': 40000, \n",
    "            'Las Palmas': 60000, \n",
    "            'Granada': 50000}"
   ]
  },
  {
   "cell_type": "code",
   "execution_count": 2,
   "metadata": {},
   "outputs": [
    {
     "data": {
      "text/plain": [
       "35000"
      ]
     },
     "execution_count": 2,
     "metadata": {},
     "output_type": "execute_result"
    }
   ],
   "source": [
    "habitantes.get('Mallorca')"
   ]
  },
  {
   "cell_type": "code",
   "execution_count": 3,
   "metadata": {},
   "outputs": [
    {
     "data": {
      "text/plain": [
       "35000"
      ]
     },
     "execution_count": 3,
     "metadata": {},
     "output_type": "execute_result"
    }
   ],
   "source": [
    "habitantes['Mallorca']"
   ]
  },
  {
   "cell_type": "code",
   "execution_count": 4,
   "metadata": {},
   "outputs": [],
   "source": [
    "dic1 = {'a': [1,2],\n",
    "        'b': [3,4]}\n",
    "      "
   ]
  },
  {
   "cell_type": "code",
   "execution_count": 5,
   "metadata": {},
   "outputs": [
    {
     "data": {
      "text/plain": [
       "1"
      ]
     },
     "execution_count": 5,
     "metadata": {},
     "output_type": "execute_result"
    }
   ],
   "source": [
    "dic1['a'][0]"
   ]
  },
  {
   "cell_type": "code",
   "execution_count": 6,
   "metadata": {},
   "outputs": [
    {
     "data": {
      "text/plain": [
       "['Salamanca', 'Mallorca', 'Madrid', 'Alicante', 'Las Palmas', 'Granada']"
      ]
     },
     "execution_count": 6,
     "metadata": {},
     "output_type": "execute_result"
    }
   ],
   "source": [
    "list(habitantes.keys())"
   ]
  },
  {
   "cell_type": "code",
   "execution_count": 7,
   "metadata": {},
   "outputs": [
    {
     "data": {
      "text/plain": [
       "{'Salamanca': 50000,\n",
       " 'Mallorca': 35000,\n",
       " 'Madrid': 5000000,\n",
       " 'Alicante': 40000,\n",
       " 'Las Palmas': 65000,\n",
       " 'Granada': 50000}"
      ]
     },
     "execution_count": 7,
     "metadata": {},
     "output_type": "execute_result"
    }
   ],
   "source": [
    "habitantes['Las Palmas'] = 65000\n",
    "habitantes"
   ]
  },
  {
   "cell_type": "code",
   "execution_count": 8,
   "metadata": {},
   "outputs": [
    {
     "data": {
      "text/plain": [
       "{'Salamanca': 50000,\n",
       " 'Mallorca': 35000,\n",
       " 'Madrid': 5000000,\n",
       " 'Alicante': 40000,\n",
       " 'Las Palmas': 70000,\n",
       " 'Granada': 50000}"
      ]
     },
     "execution_count": 8,
     "metadata": {},
     "output_type": "execute_result"
    }
   ],
   "source": [
    "actualizar = {'Las Palmas': 70000}\n",
    "habitantes.update(actualizar)\n",
    "habitantes"
   ]
  },
  {
   "cell_type": "code",
   "execution_count": 15,
   "metadata": {},
   "outputs": [
    {
     "name": "stdout",
     "output_type": "stream",
     "text": [
      "{'Salamanca': 50000, 'Mallorca': 35000, 'Alicante': 40000, 'Las Palmas': 70000, 'Granada': 50000}\n"
     ]
    }
   ],
   "source": [
    "print(habitantes)"
   ]
  },
  {
   "cell_type": "code",
   "execution_count": 16,
   "metadata": {},
   "outputs": [],
   "source": [
    "lista1 = ['perro','gato','caballo','perro','hormiga','elefante']\n",
    "lista2 = ['perro','rana','caballo','hormiga','mariposa']"
   ]
  },
  {
   "cell_type": "code",
   "execution_count": 17,
   "metadata": {},
   "outputs": [
    {
     "name": "stdout",
     "output_type": "stream",
     "text": [
      "{'elefante', 'perro', 'caballo', 'gato', 'hormiga'}\n",
      "{'perro', 'mariposa', 'rana', 'caballo', 'hormiga'}\n"
     ]
    }
   ],
   "source": [
    "set1 =set(lista1)\n",
    "print(set1)\n",
    "set2 =set(lista2)\n",
    "print(set2)"
   ]
  },
  {
   "cell_type": "code",
   "execution_count": 19,
   "metadata": {},
   "outputs": [
    {
     "data": {
      "text/plain": [
       "{'caballo', 'hormiga', 'perro'}"
      ]
     },
     "execution_count": 19,
     "metadata": {},
     "output_type": "execute_result"
    }
   ],
   "source": [
    "set1.intersection(set2)"
   ]
  },
  {
   "cell_type": "code",
   "execution_count": 22,
   "metadata": {},
   "outputs": [],
   "source": [
    "set3 = set1.union(set2)"
   ]
  },
  {
   "cell_type": "code",
   "execution_count": 23,
   "metadata": {},
   "outputs": [
    {
     "data": {
      "text/plain": [
       "{'caballo', 'elefante', 'gato', 'hormiga', 'mariposa', 'rana'}"
      ]
     },
     "execution_count": 23,
     "metadata": {},
     "output_type": "execute_result"
    }
   ],
   "source": [
    "set3.remove('perro')\n",
    "set3"
   ]
  },
  {
   "cell_type": "code",
   "execution_count": 24,
   "metadata": {},
   "outputs": [],
   "source": [
    "set3.discard('cocodrilo')"
   ]
  },
  {
   "cell_type": "code",
   "execution_count": 26,
   "metadata": {},
   "outputs": [
    {
     "data": {
      "text/plain": [
       "{'caballo',\n",
       " 'conejo',\n",
       " 'elefante',\n",
       " 'gato',\n",
       " 'hormiga',\n",
       " 'mariposa',\n",
       " 'mariquita',\n",
       " 'rana'}"
      ]
     },
     "execution_count": 26,
     "metadata": {},
     "output_type": "execute_result"
    }
   ],
   "source": [
    "nuevos_animales = ['mariquita', 'conejo']\n",
    "set3.update(nuevos_animales)\n",
    "set3"
   ]
  },
  {
   "cell_type": "code",
   "execution_count": null,
   "metadata": {},
   "outputs": [],
   "source": []
  }
 ],
 "metadata": {
  "kernelspec": {
   "display_name": "Python 3",
   "language": "python",
   "name": "python3"
  },
  "language_info": {
   "codemirror_mode": {
    "name": "ipython",
    "version": 3
   },
   "file_extension": ".py",
   "mimetype": "text/x-python",
   "name": "python",
   "nbconvert_exporter": "python",
   "pygments_lexer": "ipython3",
   "version": "3.11.8"
  }
 },
 "nbformat": 4,
 "nbformat_minor": 2
}
