{
 "cells": [
  {
   "cell_type": "code",
   "execution_count": null,
   "metadata": {},
   "outputs": [],
   "source": [
    "# 1. Usando la siguiente lista: \n",
    "    #```python\n",
    "    #temperaturas = [2,45,67,23, 45,66,12,1,34,67,99,98,67,64, 44, 100]\n",
    "    #```\n",
    "\n",
    "    #Crea tres listas nuevas, donde: \n",
    "\n",
    "    #- En la primera tengamos temperaturas entre 0 - 10, llama a la nueva lista `bajas_temp`.\n",
    "\n",
    "    #- En la segunda tengamos temperaturas entre 11- 20, llama a la nueva lista `medias_temp`.\n",
    "\n",
    "    #- En la tercera tengamos temperaturas por encima de 20, llama a la nueva lista `altas_temp`"
   ]
  },
  {
   "cell_type": "code",
   "execution_count": null,
   "metadata": {},
   "outputs": [],
   "source": [
    "# 2. Las temperaturas están grados centígrados. Para cada una de las listas creadas en el ejercicio anterior, convertid las temperaturas a grados fahrenheit\n",
    "\n",
    "    #```\n",
    "    # la relacion de grados celsius y fahrenheit es:\n",
    "    #(0 °C × 9 / 5) + 32 = 32 °F\n",
    "    #```"
   ]
  },
  {
   "cell_type": "code",
   "execution_count": null,
   "metadata": {},
   "outputs": [],
   "source": [
    "# 3. Define e imprime un rango de 0 a 6 (excluido)."
   ]
  },
  {
   "cell_type": "code",
   "execution_count": null,
   "metadata": {},
   "outputs": [],
   "source": [
    "# 4. Define e imprime un rango de 3 a 6 ambos incluidos."
   ]
  },
  {
   "cell_type": "code",
   "execution_count": null,
   "metadata": {},
   "outputs": [],
   "source": [
    "# 5. Define e imprime un rango de 5 a 9 ambos excluidos."
   ]
  },
  {
   "cell_type": "code",
   "execution_count": null,
   "metadata": {},
   "outputs": [],
   "source": [
    "# 6. Define e imprime un rango de 3 números que empiece en 2."
   ]
  },
  {
   "cell_type": "code",
   "execution_count": null,
   "metadata": {},
   "outputs": [],
   "source": [
    "# 7. Define e imprime un rango que empiece en 2, aumentando cada paso por 3, que pare antes de llegar al número 13."
   ]
  },
  {
   "cell_type": "code",
   "execution_count": null,
   "metadata": {},
   "outputs": [],
   "source": [
    "# 8. Define e imprime un rango con todos los valores impares que hay hasta 10."
   ]
  },
  {
   "cell_type": "code",
   "execution_count": null,
   "metadata": {},
   "outputs": [],
   "source": [
    "# 9. Crea una lista nueva donde tengamos los números de la lista `temperaturas` elevados al cuadrado. "
   ]
  },
  {
   "cell_type": "code",
   "execution_count": null,
   "metadata": {},
   "outputs": [],
   "source": [
    "# 10. Crea una lista nueva donde tengamos el resto de la división de cada uno de los números entre 2.  "
   ]
  },
  {
   "cell_type": "code",
   "execution_count": null,
   "metadata": {},
   "outputs": [],
   "source": [
    "# 11. Crea una lista nueva donde tengamos solo los elementos pares de la lista `temperaturas`. "
   ]
  },
  {
   "cell_type": "code",
   "execution_count": null,
   "metadata": {},
   "outputs": [],
   "source": [
    "# 12. Crea una lista nueva donde tengamos solo los elementos que sean menores que 50. "
   ]
  },
  {
   "cell_type": "code",
   "execution_count": 1,
   "metadata": {},
   "outputs": [
    {
     "data": {
      "text/plain": [
       "[5, 23, 19, 6]"
      ]
     },
     "execution_count": 1,
     "metadata": {},
     "output_type": "execute_result"
    }
   ],
   "source": [
    "listA = [5, 60, 74, 23, 19, 6]\n",
    "menor_50 = [num for num in listA if num < 50]\n",
    "menor_50"
   ]
  },
  {
   "cell_type": "code",
   "execution_count": null,
   "metadata": {},
   "outputs": [],
   "source": [
    "# 13. Crea una lista donde tengamos los valores \"par\" e \"impar\" en función de los valores de la lista original. La lista resultante tiene que ser como la que indicamos a continuación: \n",
    "\n",
    "    #```python\n",
    "    #lista_strings = [\"par\",\"impar\",\"impar\",\"impar\", \"impar\",\"par\",\"par\",\"impar\",\"par\",\"impar\",\"impar\",\"par\",\"impar\",\"par\", \"par\", \"par\"]\n",
    "    #```"
   ]
  },
  {
   "cell_type": "code",
   "execution_count": null,
   "metadata": {},
   "outputs": [],
   "source": [
    "# 14. Pide al usuario un número entero positivo y suma los números pares e impares por separado hasta ese número."
   ]
  },
  {
   "cell_type": "code",
   "execution_count": null,
   "metadata": {},
   "outputs": [],
   "source": [
    "# 15. Pide al usuario ingresar una cadena y cuenta cuántas veces aparece cada vocal (a, e, i, o, u) en la cadena."
   ]
  }
 ],
 "metadata": {
  "kernelspec": {
   "display_name": "Python 3",
   "language": "python",
   "name": "python3"
  },
  "language_info": {
   "codemirror_mode": {
    "name": "ipython",
    "version": 3
   },
   "file_extension": ".py",
   "mimetype": "text/x-python",
   "name": "python",
   "nbconvert_exporter": "python",
   "pygments_lexer": "ipython3",
   "version": "3.11.8"
  }
 },
 "nbformat": 4,
 "nbformat_minor": 2
}
